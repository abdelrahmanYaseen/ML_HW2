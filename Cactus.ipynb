{
 "cells": [
  {
   "cell_type": "markdown",
   "metadata": {},
   "source": [
    "Restructuring the files assuming that a folder called \"train\" and a file called \"train.csv\" exist in a directory called \"CactusImages\""
   ]
  },
  {
   "cell_type": "code",
   "execution_count": 23,
   "metadata": {},
   "outputs": [],
   "source": [
    "import numpy as np\n",
    "import pandas as pd \n",
    "import matplotlib.pyplot as plt\n",
    "import os\n",
    "from shutil import copyfile\n",
    "from keras.models import Sequential\n",
    "ORIGIN_PATH=os.getcwd()\n",
    "TRAIN_PATH = os.path.abspath(\"aerial-cactus-identification/train/\")\n",
    "TEST_PATH = os.path.abspath(\"aerial-cactus-identification/test/\")\n",
    "META_PATH = os.path.abspath(\"aerial-cactus-identification/train.csv\")\n",
    "GENERATOR_PATH = os.path.abspath(\"data/\")"
   ]
  },
  {
   "cell_type": "code",
   "execution_count": 4,
   "metadata": {},
   "outputs": [],
   "source": [
    "metaData = pd.read_csv(META_PATH)\n",
    "try :\n",
    "    os.mkdir(\"data\")\n",
    "    os.chdir(\"./data/\")\n",
    "    os.mkdir(\"has_cactus_1\")\n",
    "    os.mkdir(\"has_cactus_0\")\n",
    "    os.chdir(ORIGIN_PATH)\n",
    "except :\n",
    "    pass"
   ]
  },
  {
   "cell_type": "code",
   "execution_count": null,
   "metadata": {
    "scrolled": true
   },
   "outputs": [],
   "source": [
    "destination_1_path = os.path.join(ORIGIN_PATH,\"data\",\"has_cactus_1\")\n",
    "destination_0_path = os.path.join(ORIGIN_PATH,\"data\",\"has_cactus_0\")\n",
    "total = len(metaData.values)\n",
    "progress=0.0\n",
    "for row in metaData.values:\n",
    "    progress+=1\n",
    "    file = row[0]\n",
    "    label = row[1]\n",
    "    file_path = os.path.join(TRAIN_PATH,file)\n",
    "    if label == 1:\n",
    "        dest_path = os.path.join(destination_1_path,file)\n",
    "        os.rename(file_path,dest_path)\n",
    "    else :\n",
    "        dest_path = os.path.join(destination_0_path,file)\n",
    "        copyfile(file_path,dest_path)"
   ]
  },
  {
   "cell_type": "code",
   "execution_count": 6,
   "metadata": {},
   "outputs": [],
   "source": [
    "from keras.models import Sequential\n",
    "from keras.layers import Conv2D\n",
    "from keras.layers import MaxPooling2D\n",
    "from keras.layers import Flatten\n",
    "from keras.layers import Dense\n",
    "from keras.layers import Dropout\n",
    "from keras.optimizers import SGD\n",
    "from keras.preprocessing.image import ImageDataGenerator"
   ]
  },
  {
   "cell_type": "code",
   "execution_count": 12,
   "metadata": {},
   "outputs": [],
   "source": [
    "li= os.listdir(destination_0_path)"
   ]
  },
  {
   "cell_type": "code",
   "execution_count": 24,
   "metadata": {},
   "outputs": [
    {
     "name": "stdout",
     "output_type": "stream",
     "text": [
      "Found 12251 images belonging to 2 classes.\n",
      "Found 5249 images belonging to 2 classes.\n"
     ]
    }
   ],
   "source": [
    "from keras.preprocessing.image import ImageDataGenerator\n",
    "train_datagen = ImageDataGenerator(rescale = 1./255,\n",
    "                                   shear_range = 0.2,\n",
    "                                   validation_split=0.3,\n",
    "                                   zoom_range = 0.2,\n",
    "                                   horizontal_flip = True)\n",
    "train_set = train_datagen.flow_from_directory(GENERATOR_PATH,\n",
    "                                                 target_size = (244, 244),\n",
    "                                                 batch_size =32,\n",
    "                                                 class_mode = 'binary',\n",
    "                                                 subset='training')\n",
    "valiation_set = train_datagen.flow_from_directory(GENERATOR_PATH,\n",
    "                                                 target_size = (244, 244),\n",
    "                                                 batch_size =32,\n",
    "                                                 class_mode = 'binary',\n",
    "                                                 subset='validation')"
   ]
  },
  {
   "cell_type": "code",
   "execution_count": 15,
   "metadata": {},
   "outputs": [
    {
     "name": "stdout",
     "output_type": "stream",
     "text": [
      "1\n",
      "3\n",
      "5\n"
     ]
    }
   ],
   "source": [
    "classifier.fit_generator(train_set,\n",
    "                           steps_per_epoch=345,\n",
    "                           epochs=10,\n",
    "                           validation_data=test_set,\n",
    "                           validation_steps=86)"
   ]
  },
  {
   "cell_type": "code",
   "execution_count": 19,
   "metadata": {},
   "outputs": [
    {
     "ename": "StopIteration",
     "evalue": "",
     "output_type": "error",
     "traceback": [
      "\u001b[0;31m---------------------------------------------------------------------------\u001b[0m",
      "\u001b[0;31mStopIteration\u001b[0m                             Traceback (most recent call last)",
      "\u001b[0;32m<ipython-input-19-395e6b77b214>\u001b[0m in \u001b[0;36m<module>\u001b[0;34m()\u001b[0m\n\u001b[0;32m----> 1\u001b[0;31m \u001b[0mprint\u001b[0m\u001b[0;34m(\u001b[0m\u001b[0mnext\u001b[0m\u001b[0;34m(\u001b[0m\u001b[0mgen_obj\u001b[0m\u001b[0;34m)\u001b[0m\u001b[0;34m)\u001b[0m\u001b[0;34m\u001b[0m\u001b[0;34m\u001b[0m\u001b[0m\n\u001b[0m",
      "\u001b[0;31mStopIteration\u001b[0m: "
     ]
    }
   ],
   "source": []
  },
  {
   "cell_type": "code",
   "execution_count": null,
   "metadata": {},
   "outputs": [],
   "source": []
  }
 ],
 "metadata": {
  "kernelspec": {
   "display_name": "Python 3",
   "language": "python",
   "name": "python3"
  },
  "language_info": {
   "codemirror_mode": {
    "name": "ipython",
    "version": 3
   },
   "file_extension": ".py",
   "mimetype": "text/x-python",
   "name": "python",
   "nbconvert_exporter": "python",
   "pygments_lexer": "ipython3",
   "version": "3.6.8"
  }
 },
 "nbformat": 4,
 "nbformat_minor": 2
}
